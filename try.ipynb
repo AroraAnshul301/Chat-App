{
  "nbformat": 4,
  "nbformat_minor": 0,
  "metadata": {
    "colab": {
      "provenance": [],
      "gpuType": "T4",
      "mount_file_id": "1JvehtHkVhR4Ir3K0UTDwEly6eJ5MOmL9",
      "authorship_tag": "ABX9TyOx2o9p8uSQ8O0K6QJAaFsp",
      "include_colab_link": true
    },
    "kernelspec": {
      "name": "python3",
      "display_name": "Python 3"
    },
    "language_info": {
      "name": "python"
    },
    "widgets": {
      "application/vnd.jupyter.widget-state+json": {
        "090252c816194214b0e5ebf77b901e80": {
          "model_module": "@jupyter-widgets/controls",
          "model_name": "HBoxModel",
          "model_module_version": "1.5.0",
          "state": {
            "_dom_classes": [],
            "_model_module": "@jupyter-widgets/controls",
            "_model_module_version": "1.5.0",
            "_model_name": "HBoxModel",
            "_view_count": null,
            "_view_module": "@jupyter-widgets/controls",
            "_view_module_version": "1.5.0",
            "_view_name": "HBoxView",
            "box_style": "",
            "children": [
              "IPY_MODEL_22d6bff6e0c8451c9c2c17f85613cc92",
              "IPY_MODEL_d5dc559de75b48a0a7abcd860e1b8325",
              "IPY_MODEL_f875289f470947c2adbbad6e811b800f"
            ],
            "layout": "IPY_MODEL_55cd22feed4c4f719c8a56c8489985a9"
          }
        },
        "22d6bff6e0c8451c9c2c17f85613cc92": {
          "model_module": "@jupyter-widgets/controls",
          "model_name": "HTMLModel",
          "model_module_version": "1.5.0",
          "state": {
            "_dom_classes": [],
            "_model_module": "@jupyter-widgets/controls",
            "_model_module_version": "1.5.0",
            "_model_name": "HTMLModel",
            "_view_count": null,
            "_view_module": "@jupyter-widgets/controls",
            "_view_module_version": "1.5.0",
            "_view_name": "HTMLView",
            "description": "",
            "description_tooltip": null,
            "layout": "IPY_MODEL_09c59f16e4c5438cb2124a4b62d7aa41",
            "placeholder": "​",
            "style": "IPY_MODEL_66a2ac0995f147ae856522c49df44c2e",
            "value": "100%"
          }
        },
        "d5dc559de75b48a0a7abcd860e1b8325": {
          "model_module": "@jupyter-widgets/controls",
          "model_name": "FloatProgressModel",
          "model_module_version": "1.5.0",
          "state": {
            "_dom_classes": [],
            "_model_module": "@jupyter-widgets/controls",
            "_model_module_version": "1.5.0",
            "_model_name": "FloatProgressModel",
            "_view_count": null,
            "_view_module": "@jupyter-widgets/controls",
            "_view_module_version": "1.5.0",
            "_view_name": "ProgressView",
            "bar_style": "success",
            "description": "",
            "description_tooltip": null,
            "layout": "IPY_MODEL_4b90ff844e314b5888a82618453b1ec4",
            "max": 50,
            "min": 0,
            "orientation": "horizontal",
            "style": "IPY_MODEL_b230b258d5684f3297e70fb3189fb76c",
            "value": 50
          }
        },
        "f875289f470947c2adbbad6e811b800f": {
          "model_module": "@jupyter-widgets/controls",
          "model_name": "HTMLModel",
          "model_module_version": "1.5.0",
          "state": {
            "_dom_classes": [],
            "_model_module": "@jupyter-widgets/controls",
            "_model_module_version": "1.5.0",
            "_model_name": "HTMLModel",
            "_view_count": null,
            "_view_module": "@jupyter-widgets/controls",
            "_view_module_version": "1.5.0",
            "_view_name": "HTMLView",
            "description": "",
            "description_tooltip": null,
            "layout": "IPY_MODEL_5f2ce4c38a1f4eb29ede64ca00a4657e",
            "placeholder": "​",
            "style": "IPY_MODEL_291ca23f780b4d08a13c0fb50ce57a6a",
            "value": " 50/50 [1:06:39&lt;00:00, 78.56s/it]"
          }
        },
        "55cd22feed4c4f719c8a56c8489985a9": {
          "model_module": "@jupyter-widgets/base",
          "model_name": "LayoutModel",
          "model_module_version": "1.2.0",
          "state": {
            "_model_module": "@jupyter-widgets/base",
            "_model_module_version": "1.2.0",
            "_model_name": "LayoutModel",
            "_view_count": null,
            "_view_module": "@jupyter-widgets/base",
            "_view_module_version": "1.2.0",
            "_view_name": "LayoutView",
            "align_content": null,
            "align_items": null,
            "align_self": null,
            "border": null,
            "bottom": null,
            "display": null,
            "flex": null,
            "flex_flow": null,
            "grid_area": null,
            "grid_auto_columns": null,
            "grid_auto_flow": null,
            "grid_auto_rows": null,
            "grid_column": null,
            "grid_gap": null,
            "grid_row": null,
            "grid_template_areas": null,
            "grid_template_columns": null,
            "grid_template_rows": null,
            "height": null,
            "justify_content": null,
            "justify_items": null,
            "left": null,
            "margin": null,
            "max_height": null,
            "max_width": null,
            "min_height": null,
            "min_width": null,
            "object_fit": null,
            "object_position": null,
            "order": null,
            "overflow": null,
            "overflow_x": null,
            "overflow_y": null,
            "padding": null,
            "right": null,
            "top": null,
            "visibility": null,
            "width": null
          }
        },
        "09c59f16e4c5438cb2124a4b62d7aa41": {
          "model_module": "@jupyter-widgets/base",
          "model_name": "LayoutModel",
          "model_module_version": "1.2.0",
          "state": {
            "_model_module": "@jupyter-widgets/base",
            "_model_module_version": "1.2.0",
            "_model_name": "LayoutModel",
            "_view_count": null,
            "_view_module": "@jupyter-widgets/base",
            "_view_module_version": "1.2.0",
            "_view_name": "LayoutView",
            "align_content": null,
            "align_items": null,
            "align_self": null,
            "border": null,
            "bottom": null,
            "display": null,
            "flex": null,
            "flex_flow": null,
            "grid_area": null,
            "grid_auto_columns": null,
            "grid_auto_flow": null,
            "grid_auto_rows": null,
            "grid_column": null,
            "grid_gap": null,
            "grid_row": null,
            "grid_template_areas": null,
            "grid_template_columns": null,
            "grid_template_rows": null,
            "height": null,
            "justify_content": null,
            "justify_items": null,
            "left": null,
            "margin": null,
            "max_height": null,
            "max_width": null,
            "min_height": null,
            "min_width": null,
            "object_fit": null,
            "object_position": null,
            "order": null,
            "overflow": null,
            "overflow_x": null,
            "overflow_y": null,
            "padding": null,
            "right": null,
            "top": null,
            "visibility": null,
            "width": null
          }
        },
        "66a2ac0995f147ae856522c49df44c2e": {
          "model_module": "@jupyter-widgets/controls",
          "model_name": "DescriptionStyleModel",
          "model_module_version": "1.5.0",
          "state": {
            "_model_module": "@jupyter-widgets/controls",
            "_model_module_version": "1.5.0",
            "_model_name": "DescriptionStyleModel",
            "_view_count": null,
            "_view_module": "@jupyter-widgets/base",
            "_view_module_version": "1.2.0",
            "_view_name": "StyleView",
            "description_width": ""
          }
        },
        "4b90ff844e314b5888a82618453b1ec4": {
          "model_module": "@jupyter-widgets/base",
          "model_name": "LayoutModel",
          "model_module_version": "1.2.0",
          "state": {
            "_model_module": "@jupyter-widgets/base",
            "_model_module_version": "1.2.0",
            "_model_name": "LayoutModel",
            "_view_count": null,
            "_view_module": "@jupyter-widgets/base",
            "_view_module_version": "1.2.0",
            "_view_name": "LayoutView",
            "align_content": null,
            "align_items": null,
            "align_self": null,
            "border": null,
            "bottom": null,
            "display": null,
            "flex": null,
            "flex_flow": null,
            "grid_area": null,
            "grid_auto_columns": null,
            "grid_auto_flow": null,
            "grid_auto_rows": null,
            "grid_column": null,
            "grid_gap": null,
            "grid_row": null,
            "grid_template_areas": null,
            "grid_template_columns": null,
            "grid_template_rows": null,
            "height": null,
            "justify_content": null,
            "justify_items": null,
            "left": null,
            "margin": null,
            "max_height": null,
            "max_width": null,
            "min_height": null,
            "min_width": null,
            "object_fit": null,
            "object_position": null,
            "order": null,
            "overflow": null,
            "overflow_x": null,
            "overflow_y": null,
            "padding": null,
            "right": null,
            "top": null,
            "visibility": null,
            "width": null
          }
        },
        "b230b258d5684f3297e70fb3189fb76c": {
          "model_module": "@jupyter-widgets/controls",
          "model_name": "ProgressStyleModel",
          "model_module_version": "1.5.0",
          "state": {
            "_model_module": "@jupyter-widgets/controls",
            "_model_module_version": "1.5.0",
            "_model_name": "ProgressStyleModel",
            "_view_count": null,
            "_view_module": "@jupyter-widgets/base",
            "_view_module_version": "1.2.0",
            "_view_name": "StyleView",
            "bar_color": null,
            "description_width": ""
          }
        },
        "5f2ce4c38a1f4eb29ede64ca00a4657e": {
          "model_module": "@jupyter-widgets/base",
          "model_name": "LayoutModel",
          "model_module_version": "1.2.0",
          "state": {
            "_model_module": "@jupyter-widgets/base",
            "_model_module_version": "1.2.0",
            "_model_name": "LayoutModel",
            "_view_count": null,
            "_view_module": "@jupyter-widgets/base",
            "_view_module_version": "1.2.0",
            "_view_name": "LayoutView",
            "align_content": null,
            "align_items": null,
            "align_self": null,
            "border": null,
            "bottom": null,
            "display": null,
            "flex": null,
            "flex_flow": null,
            "grid_area": null,
            "grid_auto_columns": null,
            "grid_auto_flow": null,
            "grid_auto_rows": null,
            "grid_column": null,
            "grid_gap": null,
            "grid_row": null,
            "grid_template_areas": null,
            "grid_template_columns": null,
            "grid_template_rows": null,
            "height": null,
            "justify_content": null,
            "justify_items": null,
            "left": null,
            "margin": null,
            "max_height": null,
            "max_width": null,
            "min_height": null,
            "min_width": null,
            "object_fit": null,
            "object_position": null,
            "order": null,
            "overflow": null,
            "overflow_x": null,
            "overflow_y": null,
            "padding": null,
            "right": null,
            "top": null,
            "visibility": null,
            "width": null
          }
        },
        "291ca23f780b4d08a13c0fb50ce57a6a": {
          "model_module": "@jupyter-widgets/controls",
          "model_name": "DescriptionStyleModel",
          "model_module_version": "1.5.0",
          "state": {
            "_model_module": "@jupyter-widgets/controls",
            "_model_module_version": "1.5.0",
            "_model_name": "DescriptionStyleModel",
            "_view_count": null,
            "_view_module": "@jupyter-widgets/base",
            "_view_module_version": "1.2.0",
            "_view_name": "StyleView",
            "description_width": ""
          }
        }
      }
    },
    "accelerator": "GPU"
  },
  "cells": [
    {
      "cell_type": "markdown",
      "metadata": {
        "id": "view-in-github",
        "colab_type": "text"
      },
      "source": [
        "<a href=\"https://colab.research.google.com/github/AroraAnshul301/Chat-App/blob/main/try.ipynb\" target=\"_parent\"><img src=\"https://colab.research.google.com/assets/colab-badge.svg\" alt=\"Open In Colab\"/></a>"
      ]
    },
    {
      "cell_type": "code",
      "source": [
        "import torch\n",
        "from pathlib import Path\n",
        "from PIL import Image\n",
        "\n",
        "hazy_images_path=\"/content/drive/MyDrive/UIEB/raw\"\n",
        "orig_images_path=\"/content/drive/MyDrive/UIEB/reference\""
      ],
      "metadata": {
        "id": "8Ab9HxUYm8LA"
      },
      "execution_count": null,
      "outputs": []
    },
    {
      "cell_type": "code",
      "source": [
        "import os\n",
        "import sys\n",
        "\n",
        "import torch\n",
        "import torch.utils.data as data\n",
        "\n",
        "import numpy as np\n",
        "from PIL import Image\n",
        "import glob\n",
        "import random\n",
        "import cv2\n",
        "\n",
        "random.seed(42)\n",
        "\n",
        "\n",
        "def populate_train_list(orig_images_path, hazy_images_path):\n",
        "    import glob\n",
        "    import random\n",
        "\n",
        "    train_list = []\n",
        "    val_list = []\n",
        "\n",
        "    image_list_haze = glob.glob((hazy_images_path) + \"/*.png\")\n",
        "\n",
        "    tmp_dict = {}\n",
        "\n",
        "    for image in image_list_haze:\n",
        "        image = image.split(\"/\")[-1]\n",
        "        key = image\n",
        "\n",
        "\n",
        "        if key in tmp_dict.keys():\n",
        "            tmp_dict[key].append(image)\n",
        "        else:\n",
        "            tmp_dict[key] = []\n",
        "            tmp_dict[key].append(image)\n",
        "\n",
        "    train_keys = []\n",
        "    val_keys = []\n",
        "\n",
        "    len_keys = len(tmp_dict.keys())\n",
        "    for i in range(len_keys):\n",
        "        if i < len_keys * 9 / 10:\n",
        "            train_keys.append(list(tmp_dict.keys())[i])\n",
        "        else:\n",
        "            val_keys.append(list(tmp_dict.keys())[i])\n",
        "\n",
        "    for key in list(tmp_dict.keys()):\n",
        "\n",
        "        if key in train_keys:\n",
        "            for hazy_image in tmp_dict[key]:\n",
        "                train_list.append([str(orig_images_path) + \"/\" + key, str(hazy_images_path) + \"/\" + hazy_image])\n",
        "\n",
        "        else:\n",
        "            for hazy_image in tmp_dict[key]:\n",
        "                val_list.append([str(orig_images_path) + \"/\" + key, str(hazy_images_path) + \"/\" + hazy_image])\n",
        "\n",
        "    random.shuffle(train_list)\n",
        "    random.shuffle(val_list)\n",
        "\n",
        "    return train_list, val_list"
      ],
      "metadata": {
        "id": "1PzyolKMzkRd"
      },
      "execution_count": null,
      "outputs": []
    },
    {
      "cell_type": "code",
      "source": [
        "train_list,val_list=populate_train_list(orig_images_path, hazy_images_path)\n",
        "len(train_list),len(val_list)\n"
      ],
      "metadata": {
        "colab": {
          "base_uri": "https://localhost:8080/"
        },
        "id": "DY2stqVk240W",
        "outputId": "db8607b1-1aa9-4dd2-dfcf-51e3ef02d9b1"
      },
      "execution_count": null,
      "outputs": [
        {
          "output_type": "execute_result",
          "data": {
            "text/plain": [
              "(801, 89)"
            ]
          },
          "metadata": {},
          "execution_count": 39
        }
      ]
    },
    {
      "cell_type": "code",
      "source": [
        "class dehazing_loader(data.Dataset):\n",
        "\n",
        "\tdef __init__(self, orig_images_path, hazy_images_path, mode='train'):\n",
        "\n",
        "\t\tself.train_list, self.val_list = populate_train_list(orig_images_path, hazy_images_path)\n",
        "\n",
        "\t\tif mode == 'train':\n",
        "\t\t\tself.data_list = self.train_list\n",
        "\t\t\tprint(\"Total training examples:\", len(self.train_list))\n",
        "\t\telse:\n",
        "\t\t\tself.data_list = self.val_list\n",
        "\t\t\tprint(\"Total validation examples:\", len(self.val_list))\n",
        "\n",
        "\n",
        "\n",
        "\tdef __getitem__(self, index):\n",
        "\n",
        "\t\tdata_orig_path, data_hazy_path = self.data_list[index]\n",
        "\n",
        "\t\tdata_orig = Image.open(data_orig_path)\n",
        "\t\tdata_hazy = Image.open(data_hazy_path)\n",
        "\n",
        "\t\tdata_orig = data_orig.resize((480,640), Image.Resampling.LANCZOS)\n",
        "\t\tdata_hazy = data_hazy.resize((480,640), Image.Resampling.LANCZOS)\n",
        "\n",
        "\t\tdata_orig = (np.asarray(data_orig)/255.0)\n",
        "\t\tdata_hazy = (np.asarray(data_hazy)/255.0)\n",
        "\n",
        "\t\tdata_orig = torch.from_numpy(data_orig).float()\n",
        "\t\tdata_hazy = torch.from_numpy(data_hazy).float()\n",
        "\n",
        "\t\treturn data_orig.permute(2,0,1), data_hazy.permute(2,0,1)\n",
        "\n",
        "\tdef __len__(self):\n",
        "\t\treturn len(self.data_list)"
      ],
      "metadata": {
        "id": "kM7OebAw9U3v"
      },
      "execution_count": null,
      "outputs": []
    },
    {
      "cell_type": "code",
      "source": [
        "train_dataset=dehazing_loader(orig_images_path, hazy_images_path, mode='train')\n",
        "val_dataset=dehazing_loader(orig_images_path, hazy_images_path, mode='val')\n",
        "\n",
        "true,raw=train_dataset[0]\n",
        "true.shape,raw.shape"
      ],
      "metadata": {
        "colab": {
          "base_uri": "https://localhost:8080/"
        },
        "id": "LrBBDzdYIQUG",
        "outputId": "d5d1ecd9-7925-48cc-cf72-720773867503"
      },
      "execution_count": null,
      "outputs": [
        {
          "output_type": "stream",
          "name": "stdout",
          "text": [
            "Total training examples: 801\n",
            "Total validation examples: 89\n"
          ]
        },
        {
          "output_type": "execute_result",
          "data": {
            "text/plain": [
              "(torch.Size([3, 640, 480]), torch.Size([3, 640, 480]))"
            ]
          },
          "metadata": {},
          "execution_count": 41
        }
      ]
    },
    {
      "cell_type": "code",
      "source": [
        "train_loader=torch.utils.data.DataLoader(train_dataset,batch_size=8,shuffle=True)\n",
        "val_loader=torch.utils.data.DataLoader(val_dataset,batch_size=8,shuffle=True)\n",
        "len(train_loader),len(val_loader)"
      ],
      "metadata": {
        "colab": {
          "base_uri": "https://localhost:8080/"
        },
        "id": "rX7T_452Jfn3",
        "outputId": "bfd1ea83-4174-4778-dc0f-53dcab66d650"
      },
      "execution_count": null,
      "outputs": [
        {
          "output_type": "execute_result",
          "data": {
            "text/plain": [
              "(101, 12)"
            ]
          },
          "metadata": {},
          "execution_count": 42
        }
      ]
    },
    {
      "cell_type": "code",
      "source": [
        "import torch\n",
        "import torch.nn as nn\n",
        "import math\n",
        "\n",
        "class dehaze_net(nn.Module):\n",
        "\n",
        "\tdef __init__(self):\n",
        "\t\tsuper(dehaze_net, self).__init__()\n",
        "\n",
        "\t\tself.relu = nn.ReLU(inplace=True)\n",
        "\n",
        "\t\tself.e_conv1 = nn.Conv2d(3,3,1,1,0,bias=True)\n",
        "\t\tself.e_conv2 = nn.Conv2d(3,3,3,1,1,bias=True)\n",
        "\t\tself.e_conv3 = nn.Conv2d(6,3,5,1,2,bias=True)\n",
        "\t\tself.e_conv4 = nn.Conv2d(6,3,7,1,3,bias=True)\n",
        "\t\tself.e_conv5 = nn.Conv2d(12,3,3,1,1,bias=True)\n",
        "\n",
        "\tdef forward(self, x):\n",
        "\t\tsource = []\n",
        "\t\tsource.append(x)\n",
        "\n",
        "\t\tx1 = self.relu(self.e_conv1(x))\n",
        "\t\tx2 = self.relu(self.e_conv2(x1))\n",
        "\n",
        "\t\tconcat1 = torch.cat((x1,x2), 1)\n",
        "\t\tx3 = self.relu(self.e_conv3(concat1))\n",
        "\n",
        "\t\tconcat2 = torch.cat((x2, x3), 1)\n",
        "\t\tx4 = self.relu(self.e_conv4(concat2))\n",
        "\n",
        "\t\tconcat3 = torch.cat((x1,x2,x3,x4),1)\n",
        "\t\tx5 = self.relu(self.e_conv5(concat3))\n",
        "\n",
        "\t\tclean_image = self.relu((x5 * x) - x5 + 1)\n",
        "\n",
        "\t\treturn clean_image"
      ],
      "metadata": {
        "id": "SskHeGbF_FHt"
      },
      "execution_count": null,
      "outputs": []
    },
    {
      "cell_type": "code",
      "source": [
        "device=\"cuda\" if torch.cuda.is_available() else \"cpu\""
      ],
      "metadata": {
        "id": "734qLYEwApE5"
      },
      "execution_count": null,
      "outputs": []
    },
    {
      "cell_type": "code",
      "source": [
        "torch.manual_seed(42)\n",
        "torch.cuda.manual_seed(42)\n",
        "\n",
        "model_0=dehaze_net().to(device)\n",
        "model_0"
      ],
      "metadata": {
        "colab": {
          "base_uri": "https://localhost:8080/"
        },
        "id": "JW1UGWx6GzcN",
        "outputId": "afb5cb40-4476-4dc2-f147-a535f5812640"
      },
      "execution_count": null,
      "outputs": [
        {
          "output_type": "execute_result",
          "data": {
            "text/plain": [
              "dehaze_net(\n",
              "  (relu): ReLU(inplace=True)\n",
              "  (e_conv1): Conv2d(3, 3, kernel_size=(1, 1), stride=(1, 1))\n",
              "  (e_conv2): Conv2d(3, 3, kernel_size=(3, 3), stride=(1, 1), padding=(1, 1))\n",
              "  (e_conv3): Conv2d(6, 3, kernel_size=(5, 5), stride=(1, 1), padding=(2, 2))\n",
              "  (e_conv4): Conv2d(6, 3, kernel_size=(7, 7), stride=(1, 1), padding=(3, 3))\n",
              "  (e_conv5): Conv2d(12, 3, kernel_size=(3, 3), stride=(1, 1), padding=(1, 1))\n",
              ")"
            ]
          },
          "metadata": {},
          "execution_count": 31
        }
      ]
    },
    {
      "cell_type": "code",
      "source": [
        "def weights_init(m):\n",
        "    classname = m.__class__.__name__\n",
        "    if classname.find('Conv') != -1:\n",
        "        m.weight.data.normal_(0.0, 0.02)\n",
        "    elif classname.find('BatchNorm') != -1:\n",
        "        m.weight.data.normal_(1.0, 0.02)\n",
        "        m.bias.data.fill_(0)"
      ],
      "metadata": {
        "id": "5bO1VoOpNgbL"
      },
      "execution_count": null,
      "outputs": []
    },
    {
      "cell_type": "code",
      "source": [
        "model_0.apply(weights_init)"
      ],
      "metadata": {
        "colab": {
          "base_uri": "https://localhost:8080/"
        },
        "id": "AgaoWA0nNp0c",
        "outputId": "158077fb-62ba-4b43-9753-12a83f0b40b6"
      },
      "execution_count": null,
      "outputs": [
        {
          "output_type": "execute_result",
          "data": {
            "text/plain": [
              "dehaze_net(\n",
              "  (relu): ReLU(inplace=True)\n",
              "  (e_conv1): Conv2d(3, 3, kernel_size=(1, 1), stride=(1, 1))\n",
              "  (e_conv2): Conv2d(3, 3, kernel_size=(3, 3), stride=(1, 1), padding=(1, 1))\n",
              "  (e_conv3): Conv2d(6, 3, kernel_size=(5, 5), stride=(1, 1), padding=(2, 2))\n",
              "  (e_conv4): Conv2d(6, 3, kernel_size=(7, 7), stride=(1, 1), padding=(3, 3))\n",
              "  (e_conv5): Conv2d(12, 3, kernel_size=(3, 3), stride=(1, 1), padding=(1, 1))\n",
              ")"
            ]
          },
          "metadata": {},
          "execution_count": 13
        }
      ]
    },
    {
      "cell_type": "code",
      "source": [
        "from torch import nn\n",
        "\n",
        "loss_fn=nn.MSELoss()\n",
        "optimizer=torch.optim.Adam(model_0.parameters(),lr=0.0001,weight_decay=0.0001)"
      ],
      "metadata": {
        "id": "Xahj-MZ4LNrs"
      },
      "execution_count": null,
      "outputs": []
    },
    {
      "cell_type": "code",
      "source": [
        "import torch\n",
        "from tqdm.auto import tqdm\n",
        "import torchvision\n",
        "\n",
        "\n",
        "torch.manual_seed(42)\n",
        "torch.cuda.manual_seed(42)\n",
        "\n",
        "\n",
        "epochs=50\n",
        "\n",
        "\n",
        "for epoch in tqdm(range(epochs)):\n",
        "  print(f\"Epoch: {epoch}\\n----------\")\n",
        "  train_loss=0\n",
        "  for iteration,(img_orig,img_haze) in enumerate(train_loader):\n",
        "    model_0.train()\n",
        "    img_orig=img_orig.to(device)\n",
        "    img_haze=img_haze.to(device)\n",
        "\n",
        "    clean_image=model_0(img_haze)\n",
        "    loss=loss_fn(clean_image,img_orig)\n",
        "    train_loss+=loss.item()\n",
        "\n",
        "    optimizer.zero_grad()\n",
        "    loss.backward()\n",
        "    torch.nn.utils.clip_grad_norm(model_0.parameters(),0.1)\n",
        "    optimizer.step()\n",
        "\n",
        "\n",
        "  train_loss/=len(train_loader)\n",
        "  print(f\"Train Loss: {train_loss:.4f}\")\n",
        "\n",
        "  ## Validating\n",
        "  test_loss=0\n",
        "  model_0.eval()\n",
        "  with torch.inference_mode():\n",
        "    for iter_val,(img_orig,img_haze) in enumerate(val_loader):\n",
        "      img_orig=img_orig.to(device)\n",
        "      img_haze=img_haze.to(device)\n",
        "      clean_image=model_0(img_haze)\n",
        "      test_loss+=loss_fn(clean_image,img_orig).item()\n",
        "\n",
        "\n",
        "  test_loss/=len(val_loader)\n",
        "  print(f\"Test loss: {test_loss:.5f}\")\n",
        "\n",
        "\n"
      ],
      "metadata": {
        "colab": {
          "base_uri": "https://localhost:8080/",
          "height": 1000,
          "referenced_widgets": [
            "090252c816194214b0e5ebf77b901e80",
            "22d6bff6e0c8451c9c2c17f85613cc92",
            "d5dc559de75b48a0a7abcd860e1b8325",
            "f875289f470947c2adbbad6e811b800f",
            "55cd22feed4c4f719c8a56c8489985a9",
            "09c59f16e4c5438cb2124a4b62d7aa41",
            "66a2ac0995f147ae856522c49df44c2e",
            "4b90ff844e314b5888a82618453b1ec4",
            "b230b258d5684f3297e70fb3189fb76c",
            "5f2ce4c38a1f4eb29ede64ca00a4657e",
            "291ca23f780b4d08a13c0fb50ce57a6a"
          ]
        },
        "id": "IEXn9CgXI6DA",
        "outputId": "66351bab-4851-4ad3-ebb8-08327baf307c"
      },
      "execution_count": null,
      "outputs": [
        {
          "output_type": "display_data",
          "data": {
            "text/plain": [
              "  0%|          | 0/50 [00:00<?, ?it/s]"
            ],
            "application/vnd.jupyter.widget-view+json": {
              "version_major": 2,
              "version_minor": 0,
              "model_id": "090252c816194214b0e5ebf77b901e80"
            }
          },
          "metadata": {}
        },
        {
          "output_type": "stream",
          "name": "stdout",
          "text": [
            "Epoch: 0\n",
            "----------\n"
          ]
        },
        {
          "output_type": "stream",
          "name": "stderr",
          "text": [
            "<ipython-input-39-974cc91f823b>:27: FutureWarning: `torch.nn.utils.clip_grad_norm` is now deprecated in favor of `torch.nn.utils.clip_grad_norm_`.\n",
            "  torch.nn.utils.clip_grad_norm(model_0.parameters(),0.1)\n"
          ]
        },
        {
          "output_type": "stream",
          "name": "stdout",
          "text": [
            "Train Loss: 0.2900\n",
            "Test loss: 0.18946\n",
            "Epoch: 1\n",
            "----------\n",
            "Train Loss: 0.1428\n",
            "Test loss: 0.12660\n",
            "Epoch: 2\n",
            "----------\n",
            "Train Loss: 0.1300\n",
            "Test loss: 0.12611\n",
            "Epoch: 3\n",
            "----------\n",
            "Train Loss: 0.1303\n",
            "Test loss: 0.12578\n",
            "Epoch: 4\n",
            "----------\n",
            "Train Loss: 0.1296\n",
            "Test loss: 0.12198\n",
            "Epoch: 5\n",
            "----------\n",
            "Train Loss: 0.1301\n",
            "Test loss: 0.11850\n",
            "Epoch: 6\n",
            "----------\n",
            "Train Loss: 0.1295\n",
            "Test loss: 0.12355\n",
            "Epoch: 7\n",
            "----------\n",
            "Train Loss: 0.1298\n",
            "Test loss: 0.11826\n",
            "Epoch: 8\n",
            "----------\n",
            "Train Loss: 0.1301\n",
            "Test loss: 0.12109\n",
            "Epoch: 9\n",
            "----------\n",
            "Train Loss: 0.1290\n",
            "Test loss: 0.11980\n",
            "Epoch: 10\n",
            "----------\n",
            "Train Loss: 0.1295\n",
            "Test loss: 0.12997\n",
            "Epoch: 11\n",
            "----------\n",
            "Train Loss: 0.1289\n",
            "Test loss: 0.11824\n",
            "Epoch: 12\n",
            "----------\n",
            "Train Loss: 0.1286\n",
            "Test loss: 0.12702\n",
            "Epoch: 13\n",
            "----------\n",
            "Train Loss: 0.1295\n",
            "Test loss: 0.11806\n",
            "Epoch: 14\n",
            "----------\n",
            "Train Loss: 0.1289\n",
            "Test loss: 0.12664\n",
            "Epoch: 15\n",
            "----------\n",
            "Train Loss: 0.1292\n",
            "Test loss: 0.12024\n",
            "Epoch: 16\n",
            "----------\n",
            "Train Loss: 0.1292\n",
            "Test loss: 0.12022\n",
            "Epoch: 17\n",
            "----------\n",
            "Train Loss: 0.1284\n",
            "Test loss: 0.13054\n",
            "Epoch: 18\n",
            "----------\n",
            "Train Loss: 0.1283\n",
            "Test loss: 0.12490\n",
            "Epoch: 19\n",
            "----------\n",
            "Train Loss: 0.1282\n",
            "Test loss: 0.12427\n",
            "Epoch: 20\n",
            "----------\n",
            "Train Loss: 0.1286\n",
            "Test loss: 0.12109\n",
            "Epoch: 21\n",
            "----------\n",
            "Train Loss: 0.1283\n",
            "Test loss: 0.12287\n",
            "Epoch: 22\n",
            "----------\n",
            "Train Loss: 0.1284\n",
            "Test loss: 0.12907\n",
            "Epoch: 23\n",
            "----------\n",
            "Train Loss: 0.1287\n",
            "Test loss: 0.12209\n",
            "Epoch: 24\n",
            "----------\n",
            "Train Loss: 0.1285\n",
            "Test loss: 0.13265\n",
            "Epoch: 25\n",
            "----------\n",
            "Train Loss: 0.1282\n",
            "Test loss: 0.12337\n",
            "Epoch: 26\n",
            "----------\n",
            "Train Loss: 0.1285\n",
            "Test loss: 0.12516\n",
            "Epoch: 27\n",
            "----------\n",
            "Train Loss: 0.1279\n",
            "Test loss: 0.12303\n",
            "Epoch: 28\n",
            "----------\n",
            "Train Loss: 0.1283\n",
            "Test loss: 0.12363\n",
            "Epoch: 29\n",
            "----------\n",
            "Train Loss: 0.1280\n",
            "Test loss: 0.12091\n",
            "Epoch: 30\n",
            "----------\n",
            "Train Loss: 0.1281\n",
            "Test loss: 0.12661\n",
            "Epoch: 31\n",
            "----------\n",
            "Train Loss: 0.1280\n",
            "Test loss: 0.12101\n",
            "Epoch: 32\n",
            "----------\n",
            "Train Loss: 0.1277\n",
            "Test loss: 0.11874\n",
            "Epoch: 33\n",
            "----------\n",
            "Train Loss: 0.1284\n",
            "Test loss: 0.12440\n",
            "Epoch: 34\n",
            "----------\n",
            "Train Loss: 0.1284\n",
            "Test loss: 0.12098\n",
            "Epoch: 35\n",
            "----------\n",
            "Train Loss: 0.1282\n",
            "Test loss: 0.12213\n",
            "Epoch: 36\n",
            "----------\n",
            "Train Loss: 0.1280\n",
            "Test loss: 0.11774\n",
            "Epoch: 37\n",
            "----------\n",
            "Train Loss: 0.1281\n",
            "Test loss: 0.12513\n",
            "Epoch: 38\n",
            "----------\n",
            "Train Loss: 0.1278\n",
            "Test loss: 0.12165\n",
            "Epoch: 39\n",
            "----------\n",
            "Train Loss: 0.1282\n",
            "Test loss: 0.12580\n",
            "Epoch: 40\n",
            "----------\n",
            "Train Loss: 0.1276\n",
            "Test loss: 0.12180\n",
            "Epoch: 41\n",
            "----------\n",
            "Train Loss: 0.1281\n",
            "Test loss: 0.12131\n",
            "Epoch: 42\n",
            "----------\n",
            "Train Loss: 0.1281\n",
            "Test loss: 0.12000\n",
            "Epoch: 43\n",
            "----------\n",
            "Train Loss: 0.1276\n",
            "Test loss: 0.12463\n",
            "Epoch: 44\n",
            "----------\n",
            "Train Loss: 0.1281\n",
            "Test loss: 0.12172\n",
            "Epoch: 45\n",
            "----------\n",
            "Train Loss: 0.1278\n",
            "Test loss: 0.12088\n",
            "Epoch: 46\n",
            "----------\n",
            "Train Loss: 0.1270\n",
            "Test loss: 0.12293\n",
            "Epoch: 47\n",
            "----------\n",
            "Train Loss: 0.1280\n",
            "Test loss: 0.11869\n",
            "Epoch: 48\n",
            "----------\n",
            "Train Loss: 0.1029\n",
            "Test loss: 0.03247\n",
            "Epoch: 49\n",
            "----------\n",
            "Train Loss: 0.0221\n",
            "Test loss: 0.02008\n"
          ]
        }
      ]
    },
    {
      "cell_type": "code",
      "source": [
        "# torch.save(model_0.state_dict(),\"/content/drive/MyDrive/dehazing_model.pth\")"
      ],
      "metadata": {
        "id": "9Zf4L6PgnQZf"
      },
      "execution_count": null,
      "outputs": []
    },
    {
      "cell_type": "code",
      "source": [
        "model_1=dehaze_net().to(device)\n",
        "model_1.load_state_dict(torch.load(\"/content/drive/MyDrive/dehazing_model.pth\", map_location=torch.device('cpu')))"
      ],
      "metadata": {
        "colab": {
          "base_uri": "https://localhost:8080/"
        },
        "id": "8OviUHmSxn6_",
        "outputId": "662de09f-5dcd-403a-b55a-2ab6c4107561"
      },
      "execution_count": null,
      "outputs": [
        {
          "output_type": "execute_result",
          "data": {
            "text/plain": [
              "<All keys matched successfully>"
            ]
          },
          "metadata": {},
          "execution_count": 48
        }
      ]
    },
    {
      "cell_type": "code",
      "source": [
        "import matplotlib.pyplot as plt\n",
        "epochs=torch.arange(1,51)\n",
        "train_loss = [\n",
        "    0.2900, 0.1428, 0.1300, 0.1303, 0.1296, 0.1301, 0.1295, 0.1298, 0.1301, 0.1290,\n",
        "    0.1295, 0.1289, 0.1286, 0.1295, 0.1289, 0.1292, 0.1292, 0.1284, 0.1283, 0.1282,\n",
        "    0.1286, 0.1283, 0.1284, 0.1287, 0.1285, 0.1282, 0.1285, 0.1279, 0.1283, 0.1280,\n",
        "    0.1281, 0.1280, 0.1277, 0.1284, 0.1284, 0.1282, 0.1280, 0.1281, 0.1278, 0.1282,\n",
        "    0.1276, 0.1281, 0.1281, 0.1276, 0.1281, 0.1278, 0.1270, 0.1280, 0.1029, 0.0221\n",
        "]\n",
        "test_loss = [\n",
        "    0.18946, 0.12660, 0.12611, 0.12578, 0.12198, 0.11850, 0.12355, 0.11826, 0.12109, 0.11980,\n",
        "    0.12997, 0.11824, 0.12702, 0.11806, 0.12664, 0.12024, 0.12022, 0.13054, 0.12490, 0.12427,\n",
        "    0.12109, 0.12287, 0.12907, 0.12209, 0.13265, 0.12337, 0.12516, 0.12303, 0.12363, 0.12091,\n",
        "    0.12661, 0.12101, 0.11874, 0.12440, 0.12098, 0.12213, 0.11774, 0.12513, 0.12165, 0.12580,\n",
        "    0.12180, 0.12131, 0.12000, 0.12463, 0.12172, 0.12088, 0.12293, 0.11869, 0.03247, 0.02008\n",
        "]\n",
        "\n",
        "\n",
        "fig=plt.plot(fig_size=(9,9))\n",
        "plt.plot(epochs,train_loss,label=\"Train Loss\")\n",
        "plt.plot(epochs,test_loss,label=\"Test Loss\")\n",
        "plt.xlabel(\"Epochs\")\n",
        "plt.ylabel(\"Loss\")\n",
        "plt.legend()"
      ],
      "metadata": {
        "colab": {
          "base_uri": "https://localhost:8080/",
          "height": 468
        },
        "id": "56JpGG7AyHSE",
        "outputId": "dd9d87ea-ca59-47d3-9752-1e91b29c4bc6"
      },
      "execution_count": null,
      "outputs": [
        {
          "output_type": "execute_result",
          "data": {
            "text/plain": [
              "<matplotlib.legend.Legend at 0x7d8318acf050>"
            ]
          },
          "metadata": {},
          "execution_count": 49
        },
        {
          "output_type": "display_data",
          "data": {
            "text/plain": [
              "<Figure size 640x480 with 1 Axes>"
            ],
            "image/png": "[encoded data removed]"
          },
          "metadata": {}
        }
      ]
    },
    {
      "cell_type": "code",
      "source": [
        "!pip install torchmetrics"
      ],
      "metadata": {
        "id": "U4_xQWFn2pJ8"
      },
      "execution_count": null,
      "outputs": []
    },
    {
      "cell_type": "code",
      "source": [
        "from torchmetrics.image import PeakSignalNoiseRatio,StructuralSimilarityIndexMeasure\n",
        "psnr = PeakSignalNoiseRatio().to(device)\n",
        "ssim = StructuralSimilarityIndexMeasure(data_range=1.0).to(device)"
      ],
      "metadata": {
        "id": "cdrbafvF3dJm"
      },
      "execution_count": null,
      "outputs": []
    },
    {
      "cell_type": "code",
      "source": [
        "def evaluate_model(model:nn.Module,data_loader:torch.utils.data.DataLoader,loss_fn):\n",
        "  model.eval()\n",
        "  with torch.inference_mode():\n",
        "    test_loss=0\n",
        "    psnr_loss=0\n",
        "    ssim_loss=0\n",
        "    for iter_val,(img_orig,img_haze) in enumerate(val_loader):\n",
        "      img_orig=img_orig.to(device)\n",
        "      img_haze=img_haze.to(device)\n",
        "      clean_image=model_0(img_haze)\n",
        "      test_loss+=loss_fn(clean_image,img_orig).item()\n",
        "      psnr_loss+=psnr(clean_image,img_orig).item()\n",
        "      ssim_loss+=ssim(clean_image,img_orig).item()\n",
        "\n",
        "    test_loss/=len(data_loader)\n",
        "    psnr_loss/=len(data_loader)\n",
        "    ssim_loss/=len(data_loader)\n",
        "    return {\"model_name\":model.__class__.__name__,\"model_loss_mse\":test_loss,\"model_loss_psnr\":psnr_loss,\"model_loss_ssim\":ssim_loss}\n",
        "\n",
        "\n",
        "evaluate_model(model=model_1,data_loader=val_loader,loss_fn=loss_fn)"
      ],
      "metadata": {
        "id": "WfW9Hbkg0c1s"
      },
      "execution_count": null,
      "outputs": []
    }
  ]
}